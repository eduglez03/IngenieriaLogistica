{
  "cells": [
    {
      "cell_type": "markdown",
      "metadata": {
        "id": "ZZPSfU7SgZb3"
      },
      "source": [
        "# Introducción\n",
        "---\n",
        "**Nombre:** Eduardo González Gutiérrez\n",
        "\n",
        "**alu:** alu0101461588\n",
        "\n",
        "---\n",
        "En este cuaderno Jupyter se presenta el desarrollo de dos modelos matemáticos relacionados con problemas de asignación tridimensional, implementados en Julia utilizando el paquete JuMP para el modelado y GLPK como solucionador. Los modelos planteados son:\n",
        "\n",
        "* **Problema de asignación tridimensional planar:** Un modelo en el que se busca asignar elementos en un espacio 3D minimizando el coste total, sujeto a restricciones que garantizan que cada fila, columna y capa sea cubierta exactamente una vez.\n",
        "\n",
        "* **Problema de asignación tridimensional axial:** Similar al problema planar, pero con un enfoque diferente en la estructura y las restricciones.\n",
        "\n",
        "En cada modelo se incluyen:\n",
        "\n",
        "* Definición de variables, función objetivo y restricciones.\n",
        "* Resolución utilizando el solucionador GLPK.\n",
        "* Análisis y presentación de los resultados obtenidos.\n",
        "\n",
        "Este cuaderno representa un ejercicio práctico para aplicar los conocimientos adquiridos en la asignatura Ingeniería Logística, trabajando con problemas de optimización de asignación.\n",
        "\n",
        "\n",
        "\n"
      ]
    },
    {
      "cell_type": "markdown",
      "metadata": {
        "id": "jcCKASrkjgOP"
      },
      "source": [
        "# Instalar Julia y Kernel de Julia"
      ]
    },
    {
      "cell_type": "code",
      "execution_count": null,
      "metadata": {
        "colab": {
          "background_save": true,
          "base_uri": "https://localhost:8080/"
        },
        "id": "HcSc0PrwiBWp",
        "outputId": "efabf902-4c53-4246-d10d-d6bef198b339"
      },
      "outputs": [],
      "source": [
        "# Descargar e instalar Julia\n",
        "!wget https://julialang-s3.julialang.org/bin/linux/x64/1.9/julia-1.9.3-linux-x86_64.tar.gz -O julia.tar.gz\n",
        "!tar -xvzf julia.tar.gz\n",
        "!mv julia-1.9.3 /usr/local/julia\n",
        "!ln -s /usr/local/julia/bin/julia /usr/local/bin/julia\n",
        "\n",
        "\n",
        "# Instalar paquetes de Julia\n",
        "!julia -e 'using Pkg; Pkg.add(\"IJulia\"); Pkg.add(\"JuMP\"); Pkg.add(\"GLPK\"); Pkg.add(\"Random\")'\n",
        "\n",
        "\n",
        "# Configurar el kernel de Julia en Colab\n",
        "import os\n",
        "os.system(\"julia -e 'using IJulia; IJulia.installkernel(\\\"Julia\\\")'\")\n"
      ]
    },
    {
      "cell_type": "markdown",
      "metadata": {
        "id": "WM3Z2U-6htJb"
      },
      "source": [
        "# Modelo Planar: Asignación de Transporte de Material entre Almacenes y Hospitales\n",
        "\n",
        "##Introducción al Modelo Planar\n",
        "\n",
        "El modelo planar es un tipo de modelo matemático utilizado en problemas de asignación en los que se deben distribuir recursos entre diferentes ubicaciones, minimizando un coste total asociado a dicha distribución. En este caso, el modelo planar se utiliza para resolver un problema de asignación entre tres elementos: hospitales, transportistas y almacenes.\n",
        "\n",
        "El modelo se organiza en un espacio tridimensional, donde cada dimensión representa uno de los elementos involucrados en la asignación. Los hospitales necesitan recibir material desde los almacenes, y para ello, los transportistas son los encargados de realizar las entregas. El objetivo es determinar qué transportista, asignado a un hospital y un almacén, debe realizar cada entrega de manera que el coste total del transporte se minimice.\n",
        "\n",
        "## Enunciado del Problema\n",
        "En este problema de asignación, se tiene un conjunto de hospitales, transportistas y almacenes. El objetivo es asignar a cada hospital un transportista y un almacén de manera eficiente, de forma que se minimice el coste total de transporte.\n",
        "\n",
        "Datos del problema:\n",
        "* H: Número de hospitales.\n",
        "* T: Número de transportistas.\n",
        "* A: Número de almacenes.\n",
        "\n",
        "Se cuenta con una **matriz de costes** que representa el coste de transportar material desde un almacén hasta un hospital por medio de un transportista.\n",
        "\n",
        "El problema está sujeto a las siguientes restricciones:\n",
        "\n",
        "1. Cada hospital debe recibir material de un único transportista y un único almacén.\n",
        "2. Cada transportista puede realizar como máximo una entrega.\n",
        "3. Cada almacén puede enviar material a un máximo de un hospital.\n",
        "\n",
        "El objetivo es encontrar la asignación de transportistas a hospitales y almacenes que minimice el coste total de transporte, respetando las restricciones mencionadas.\n"
      ]
    },
    {
      "cell_type": "code",
      "execution_count": 2,
      "metadata": {
        "id": "9kFC-zbAgaHW"
      },
      "outputs": [
        {
          "name": "stderr",
          "output_type": "stream",
          "text": [
            "\u001b[32m\u001b[1m   Resolving\u001b[22m\u001b[39m package versions...\n",
            "\u001b[32m\u001b[1m  No Changes\u001b[22m\u001b[39m to `~/.julia/environments/v1.11/Project.toml`\n",
            "\u001b[32m\u001b[1m  No Changes\u001b[22m\u001b[39m to `~/.julia/environments/v1.11/Manifest.toml`\n",
            "\u001b[32m\u001b[1m   Resolving\u001b[22m\u001b[39m package versions...\n",
            "\u001b[32m\u001b[1m  No Changes\u001b[22m\u001b[39m to `~/.julia/environments/v1.11/Project.toml`\n",
            "\u001b[32m\u001b[1m  No Changes\u001b[22m\u001b[39m to `~/.julia/environments/v1.11/Manifest.toml`\n"
          ]
        },
        {
          "name": "stdout",
          "output_type": "stream",
          "text": [
            "Solución Óptima Encontrada:\n",
            "Coste total: 157.0€.\n",
            "\n",
            "El transportista 4 lleva material del almacén 1 al hospital 1 con un coste de 30€.\n",
            "El transportista 3 lleva material del almacén 2 al hospital 2 con un coste de 41€.\n",
            "El transportista 1 lleva material del almacén 4 al hospital 3 con un coste de 52€.\n",
            "El transportista 2 lleva material del almacén 3 al hospital 4 con un coste de 34€.\n"
          ]
        }
      ],
      "source": [
        "# Instalación de paquetes necesarios\n",
        "import Pkg\n",
        "Pkg.add(\"JuMP\")\n",
        "Pkg.add(\"GLPK\")\n",
        "\n",
        "# Uso de paquetes\n",
        "using JuMP, GLPK, Random\n",
        "\n",
        "# Datos del problema\n",
        "H = 4         # Número de hospitales\n",
        "T = H         # Número de transportistas\n",
        "A = T         # Número de almacenes\n",
        "Random.seed!(1234)  # Semilla para generar datos reproducibles\n",
        "\n",
        "# Coste de transportar material desde un almacén a un hospital por un transportista\n",
        "Coste = rand(30:80, H, T, A)\n",
        "\n",
        "# Creación del modelo\n",
        "model = Model(GLPK.Optimizer)\n",
        "set_silent(model)\n",
        "\n",
        "# Definir variables de decisión\n",
        "@variable(model, x[1:H, 1:T, 1:A] >= 0, binary=true)\n",
        "\n",
        "# Definir la función objetivo (minimizar el coste total de transporte)\n",
        "@objective(model, Min, sum(Coste[h, t, a] * x[h, t, a] for h in 1:H, t in 1:T, a in 1:A))\n",
        "\n",
        "# Restricciones\n",
        "@constraint(model, cada_hospital[h=1:H], sum(x[h, :, :]) == 1) # Cada hospital recibe material de un almacén y un transportista\n",
        "@constraint(model, cada_transportista[t=1:T], sum(x[:, t, :]) <= 1) # Cada transportista realiza una entrega\n",
        "@constraint(model, capacidad_almacen[a=1:A], sum(x[:, :, a]) <= 1) # Cada almacén envía a un máximo de un hospital\n",
        "\n",
        "# Optimización del modelo\n",
        "optimize!(model)\n",
        "\n",
        "# Resultado de la optimización\n",
        "if termination_status(model) == MOI.OPTIMAL\n",
        "    println(\"Solución Óptima Encontrada:\")\n",
        "    println(\"Coste total: \", objective_value(model), \"€.\")\n",
        "    println()\n",
        "\n",
        "    for h in 1:H\n",
        "        for t in 1:T\n",
        "            for a in 1:A\n",
        "                if value(x[h, t, a]) > 0.5\n",
        "                    println(\"El transportista $t lleva material del almacén $a al hospital $h con un coste de \", Coste[h, t, a], \"€.\")\n",
        "                end\n",
        "            end\n",
        "        end\n",
        "    end\n",
        "else\n",
        "    println(\"No se encontró una solución óptima.\")\n",
        "end\n"
      ]
    },
    {
      "cell_type": "markdown",
      "metadata": {
        "id": "pwHP3d6fh1up"
      },
      "source": [
        "# **Modelo Axial: Asignación de Tareas a Trabajadores en un Proyecto**\n",
        "##Introducción al Modelo Axial\n",
        "El modelo axial es útil para resolver problemas de asignación en los que se deben asignar recursos entre varios grupos en un espacio tridimensional. Este modelo es adecuado cuando se tienen diferentes tareas, trabajadores y equipos que deben ser asignados de manera eficiente, minimizando un coste total asociado a la asignación.\n",
        "\n",
        "En este caso, el modelo axial se utiliza para asignar tareas a trabajadores y equipos en un proyecto, donde cada tarea debe ser asignada a un trabajador y un equipo específicos. El objetivo es minimizar el coste total de la asignación, que depende de la tarea, el trabajador y el equipo involucrado.\n",
        "\n",
        "## Enunciado del Problema\n",
        "En este problema de asignación, se tiene un conjunto de tareas, trabajadores y equipos, y se desea asignar cada tarea a un trabajador y un equipo de manera eficiente, minimizando el coste total de la asignación.\n",
        "\n",
        "Datos del problema:\n",
        "1. T: Número de tareas a realizar.\n",
        "2. W: Número de trabajadores disponibles.\n",
        "3. E: Número de equipos disponibles.\n",
        "\n",
        "Se cuenta con una **matriz de costes** que representa el coste de asignar una tarea específica a un trabajador y a un equipo determinados.\n",
        "\n",
        "El problema está sujeto a las siguientes restricciones:\n",
        "\n",
        "1. Cada tarea debe ser asignada exactamente a un trabajador y un equipo.\n",
        "2. Cada trabajador puede realizar como máximo una tarea.\n",
        "3. Cada equipo puede realizar como máximo una tarea.\n",
        "\n",
        "El objetivo es encontrar la asignación de tareas a trabajadores y equipos que minimice el coste total, respetando las restricciones mencionadas."
      ]
    },
    {
      "cell_type": "code",
      "execution_count": 4,
      "metadata": {
        "id": "TSDahQLah4vm"
      },
      "outputs": [
        {
          "name": "stderr",
          "output_type": "stream",
          "text": [
            "\u001b[32m\u001b[1m   Resolving\u001b[22m\u001b[39m package versions...\n",
            "\u001b[32m\u001b[1m  No Changes\u001b[22m\u001b[39m to `~/.julia/environments/v1.11/Project.toml`\n",
            "\u001b[32m\u001b[1m  No Changes\u001b[22m\u001b[39m to `~/.julia/environments/v1.11/Manifest.toml`\n",
            "\u001b[32m\u001b[1m   Resolving\u001b[22m\u001b[39m package versions...\n",
            "\u001b[32m\u001b[1m  No Changes\u001b[22m\u001b[39m to `~/.julia/environments/v1.11/Project.toml`\n",
            "\u001b[32m\u001b[1m  No Changes\u001b[22m\u001b[39m to `~/.julia/environments/v1.11/Manifest.toml`\n"
          ]
        },
        {
          "name": "stdout",
          "output_type": "stream",
          "text": [
            "\n",
            "Modelo Axial:\n",
            "Estado de optimización: OPTIMAL\n",
            "Costo óptimo: 70.0\n",
            "Variables no nulas:\n",
            "asignacion_axial[1, 4, 1] = 1.0\n",
            "asignacion_axial[2, 3, 2] = 1.0\n",
            "asignacion_axial[3, 1, 4] = 1.0\n",
            "asignacion_axial[4, 2, 3] = 1.0\n"
          ]
        }
      ],
      "source": [
        "# Instalación de paquetes necesarios\n",
        "import Pkg\n",
        "Pkg.add(\"JuMP\")\n",
        "Pkg.add(\"GLPK\")\n",
        "\n",
        "# Uso de paquetes\n",
        "using JuMP, GLPK, Random\n",
        "\n",
        "# Datos del problema\n",
        "T = 4  # Número de tareas\n",
        "W = 4  # Número de trabajadores\n",
        "E = 4  # Número de equipos\n",
        "Random.seed!(1234)  # Semilla para generar datos reproducibles\n",
        "\n",
        "# Matriz de costes aleatorios (ajusta según el problema real)\n",
        "coste = rand(10:50, T, W, E)\n",
        "\n",
        "# Crear el modelo\n",
        "model_axial = Model(GLPK.Optimizer)\n",
        "\n",
        "# Definir variables de decisión: asignación 3D (tarea, trabajador, equipo)\n",
        "@variable(model_axial, asignacion_axial[t=1:T, w=1:W, e=1:E] >= 0, binary=true)\n",
        "\n",
        "# Función objetivo: minimizar el coste total\n",
        "@objective(model_axial, Min, \n",
        "    sum(coste[t, w, e] * asignacion_axial[t, w, e] for t in 1:T, w in 1:W, e in 1:E))\n",
        "\n",
        "# Restricciones\n",
        "\n",
        "# Restricción 1: Cada tarea debe ser asignada exactamente a un trabajador y un equipo\n",
        "@constraint(model_axial, [t=1:T], sum(asignacion_axial[t, w, e] for w in 1:W, e in 1:E) == 1)\n",
        "\n",
        "# Restricción 2: Cada trabajador realiza como máximo una tarea\n",
        "@constraint(model_axial, [w=1:W], sum(asignacion_axial[t, w, e] for t in 1:T, e in 1:E) <= 1)\n",
        "\n",
        "# Restricción 3: Cada equipo realiza como máximo una tarea\n",
        "@constraint(model_axial, [e=1:E], sum(asignacion_axial[t, w, e] for t in 1:T, w in 1:W) <= 1)\n",
        "\n",
        "# Resolver el modelo\n",
        "optimize!(model_axial)\n",
        "\n",
        "# Resultados\n",
        "println(\"\\nModelo Axial:\")\n",
        "println(\"Estado de optimización: \", termination_status(model_axial))\n",
        "println(\"Costo óptimo: \", objective_value(model_axial))\n",
        "println(\"Variables no nulas:\")\n",
        "\n",
        "# Mostrar las asignaciones no nulas\n",
        "for t in 1:T, w in 1:W, e in 1:E\n",
        "    if value(asignacion_axial[t, w, e]) > 0.5  # Solo mostrar asignaciones no nulas\n",
        "        println(\"asignacion_axial[$t, $w, $e] = \", value(asignacion_axial[t, w, e]))\n",
        "    end\n",
        "end\n"
      ]
    }
  ],
  "metadata": {
    "colab": {
      "provenance": [],
      "toc_visible": true
    },
    "kernelspec": {
      "display_name": "Julia 1.11.2",
      "language": "julia",
      "name": "julia-1.11"
    },
    "language_info": {
      "file_extension": ".jl",
      "mimetype": "application/julia",
      "name": "julia",
      "version": "1.11.2"
    }
  },
  "nbformat": 4,
  "nbformat_minor": 0
}
